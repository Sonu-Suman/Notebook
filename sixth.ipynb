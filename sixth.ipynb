{
 "cells": [
  {
   "cell_type": "markdown",
   "id": "f1b1e31e",
   "metadata": {},
   "source": [
    "Sample Input 0\n",
    "------------\n",
    "3\n",
    "\n",
    "2 3 1\n",
    "\n",
    "Sample Output 0\n",
    "-------------\n",
    "2\n",
    "\n",
    "3\n",
    "\n",
    "1\n",
    "\n",
    "Explnation 0\n",
    "-----------\n",
    "\n",
    "Given the values of p(1)=2, p(2)=3, and p(3)=1, we calculate and print the following values for each x from 1 to n:\n",
    "\n",
    "* x = 1 = p(3) = p(p(2)) = p(p(y)), so we print the value of y = 2 in new line.\n",
    "* x= 2 = p(1) = p(p(3)) = p(p(y)), so we print the value of y = 3 on a new line.\n",
    "* x = 3 = p(2) = p(p(1)) = p(p(y)), so we print the value of y = 1 on a new line.\n",
    "\n",
    "Sample Input 1\n",
    "--------------\n",
    "5\n",
    "\n",
    "4 3 5 1 2\n",
    "\n",
    "Sample Output 1\n",
    "----------\n",
    "1\n",
    "\n",
    "3\n",
    "\n",
    "5\n",
    "\n",
    "4\n",
    "\n",
    "2\n",
    "\n",
    "Explanation 1:\n",
    "----------------------\n",
    "\n",
    "* p(1) = 4,  x = 1 = p(4) = p(p(1)) = 1\n",
    "* p(2) = 3,  x = 2 = p(5) = p(p(3)) = 3\n",
    "* p(3) = 5,  x = 3 = p(2) = p(p(5)) = 5\n",
    "* p(4) = 1,  x = 4 = p(1) = p(p(4)) = 4\n",
    "* p(5) = 2,  x = 5 = p(3) = p(p(2)) = 2\n"
   ]
  },
  {
   "cell_type": "code",
   "execution_count": 1,
   "id": "8a29bd81",
   "metadata": {},
   "outputs": [
    {
     "name": "stdout",
     "output_type": "stream",
     "text": [
      "5\n",
      "4 3 5 1 2\n",
      "['1', '3', '5', '4', '2']\n"
     ]
    }
   ],
   "source": [
    "def permutationEquation(p):\n",
    "    # Write your code here\n",
    "    l = {}\n",
    "    h = 0\n",
    "    g = []\n",
    "    m = []\n",
    "    n = []\n",
    "    for i in p:\n",
    "        h += 1\n",
    "        l[h] = i\n",
    "        \n",
    "    for key, value in l.items():\n",
    "        g.append(value)\n",
    "        \n",
    "    for j in sorted(g):\n",
    "        for key, value in l.items():\n",
    "            if value == j:\n",
    "                m.append(key)\n",
    "                \n",
    "    for j in m:\n",
    "        for key, value in l.items():\n",
    "            if value == j:\n",
    "                n.append(str(key))\n",
    "                \n",
    "    return n\n",
    "        \n",
    "\n",
    "if __name__ == '__main__':\n",
    "\n",
    "    n = int(input().strip())\n",
    "\n",
    "    p = list(map(int, input().rstrip().split()))\n",
    "\n",
    "    print(permutationEquation(p))"
   ]
  },
  {
   "cell_type": "markdown",
   "id": "a85b7ed0",
   "metadata": {},
   "source": [
    "# Count the number"
   ]
  },
  {
   "cell_type": "code",
   "execution_count": 2,
   "id": "0abc07e4",
   "metadata": {},
   "outputs": [
    {
     "name": "stdout",
     "output_type": "stream",
     "text": [
      "Counter({3: 5, 1: 3, 2: 2, 4: 1, 6: 1, 7: 1, 8: 1})\n"
     ]
    }
   ],
   "source": [
    "from collections import Counter\n",
    "\n",
    "l = [1, 2, 3, 4, 1, 2, 6, 7, 3, 8, 1, 3, 3, 3]\n",
    "cnt = Counter(l)\n",
    "print(cnt)"
   ]
  },
  {
   "cell_type": "markdown",
   "id": "4d66100b",
   "metadata": {},
   "source": [
    "# Jumping on the Clouds: Revisited"
   ]
  },
  {
   "cell_type": "markdown",
   "id": "8b876be8",
   "metadata": {},
   "source": [
    "A child is playing a cloud hopping game. In this game, there are sequentially numbered clouds that can be thunderheads or cumulus clouds. The character must jump from cloud to cloud until it reaches the start again.\n",
    "\n",
    "There is an array of clouds, c and an energy level e =100. The character starts from c[0] and uses 1 unit of energy to make a jump of size k to cloud c[(i+k) % n]. If it lands on a thundercloud, c[i]=1, its energy (e) decreases by 2 additional units. The game ends when the character lands back on cloud 0.\n",
    "\n",
    "Given the values of n, k, and the configuration of the clouds as an array c, determine the final value of e after the game ends.\n",
    "\n",
    "Example :-\n",
    "  c = [0, 0, 1, 0]\n",
    "  k = 2\n",
    "  \n",
    "The indices of the path are 0 →→ 2 →→ 0. The energy level reduces by 1 for each jump to 98. The character landed on one\n",
    " thunderhead at an additional cost of 2 energy units. The final energy level is 96.\n",
    " \n",
    "Note: Recall that % refers to the modulo operation. In this case, it serves to make the route circular. If the character is   at c[n -1] and jumps 1, it will arrive at c[0].\n",
    "\n",
    "\n",
    "Sample Input\n",
    "------------------\n",
    "STDIN                          Function\n",
    "-----                          --------\n",
    "\n",
    "8 2                        n = 8, k = 2\n",
    "\n",
    "0 0 1 0 0 1 1 0            c = [0, 0, 1, 0, 0, 1, 1, 0]\n",
    "\n",
    "Sample Output\n",
    "------------------\n",
    "92"
   ]
  },
  {
   "cell_type": "code",
   "execution_count": 2,
   "id": "6c247180",
   "metadata": {},
   "outputs": [
    {
     "name": "stdout",
     "output_type": "stream",
     "text": [
      "8 2\n",
      "0 0 1 0 0 1 1 0\n",
      "92\n"
     ]
    }
   ],
   "source": [
    "# Complete the jumpingOnClouds function below.\n",
    "def jumpingOnClouds(c, k):\n",
    "    \n",
    "    energy = 100 # initial energy\n",
    "    i = k%n\n",
    "    energy -= c[i] * 2 + 1\n",
    "    \n",
    "    while i != 0:\n",
    "        i = (i+k)%n\n",
    "        energy -= c[i] * 2 + 1\n",
    "        \n",
    "    print(energy)\n",
    "    \n",
    "\n",
    "if __name__ == '__main__':\n",
    "    nk = input().split()\n",
    "\n",
    "    n = int(nk[0])\n",
    "\n",
    "    k = int(nk[1])\n",
    "\n",
    "    c = list(map(int, input().rstrip().split()))\n",
    "\n",
    "    jumpingOnClouds(c, k)"
   ]
  },
  {
   "cell_type": "markdown",
   "id": "0ff0a627",
   "metadata": {},
   "source": [
    "# Append and Delete"
   ]
  },
  {
   "cell_type": "markdown",
   "id": "911bb400",
   "metadata": {},
   "source": [
    "You have two strings of lowercase English letters. You can perform two types of operations on the first string:\n",
    "\n",
    "1. Append a lowercase English letter to the end of the string.\n",
    "2. Delete the last character of the string. Performing this operation on an empty string results in an empty string.\n",
    "\n",
    "Given an integer, k, and two strings, s and t, determine whether or not you can convert s to t by performing exactly k of the above operations on s. If it's possible, print Yes. Otherwise, print No.\n",
    "\n",
    "EXAMPLE :- \n",
    "  s = ['a', 'b', 'c']\n",
    "  t = ['d', 'e', 'f']\n",
    "  k = 6\n",
    "  \n",
    " To convert s to t, we first delete all of the characters in 3 moves. Next we add each of the characters of t in order. On   6th the  move, you will have the matching string. Return Yes.\n",
    " \n",
    " If there were more moves available, they could have been eliminated by performing multiple deletions on an empty string. If there were fewer than 6 moves, we would not have succeeded in creating the new string.\n",
    " \n",
    "Function Description\n",
    "------------\n",
    "Complete the appendAndDelete function in the editor below. It should return a string, either Yes or No.\n",
    "\n",
    "appendAndDelete has the following parameter(s):\n",
    "\n",
    "* string s: the initial string\n",
    "* string t: the desired string\n",
    "* int k: the exact number of operations that must be performed\n",
    "\n",
    "Returns\n",
    "------------\n",
    "string: either Yes or No\n",
    "\n",
    "Input Format\n",
    "--------\n",
    "The first line contains a string s, the initial string.\n",
    "\n",
    "The second line contains a string t, the desired final string.\n",
    "\n",
    "The third line contains an integer k, the number of operations."
   ]
  },
  {
   "cell_type": "code",
   "execution_count": 3,
   "id": "76256a5d",
   "metadata": {},
   "outputs": [
    {
     "name": "stdout",
     "output_type": "stream",
     "text": [
      "['a', 'b', 'c']\n",
      "['d', 'e', 'f']\n",
      "7\n",
      "No\n"
     ]
    }
   ],
   "source": [
    "def appendAndDelete(s, t, k):\n",
    "    # Write your code here\n",
    "    c = 0\n",
    "    l = len(s)\n",
    "    while s[:l] != t[:l]:\n",
    "        l -= 1\n",
    "        c += 1\n",
    "    \n",
    "    o = ((len(t)-l)+c)\n",
    "    if k<o:\n",
    "        return 'No'\n",
    "    elif (len(s)+len(t)) <= k:\n",
    "        return 'Yes'\n",
    "    elif 2 * len(t) < k:\n",
    "        return 'Yes'\n",
    "    elif k%2 == o%2:\n",
    "        return 'Yes'\n",
    "    else:\n",
    "        return 'No'\n",
    "        \n",
    "    \n",
    "\n",
    "if __name__ == '__main__':\n",
    "\n",
    "    s = input()\n",
    "\n",
    "    t = input()\n",
    "\n",
    "    k = int(input().strip())\n",
    "\n",
    "    print(appendAndDelete(s, t, k))"
   ]
  },
  {
   "cell_type": "markdown",
   "id": "27ad13b2",
   "metadata": {},
   "source": [
    "# Sherlock and Squares"
   ]
  },
  {
   "cell_type": "markdown",
   "id": "66f3db0e",
   "metadata": {},
   "source": [
    "Watson likes to challenge Sherlock's math ability. He will provide a starting and ending value that describe a range of integers, inclusive of the endpoints. Sherlock must determine the number of square integers within that range.\n",
    "\n",
    "Sample Input\n",
    "------------\n",
    "2\n",
    "\n",
    "3  9\n",
    "\n",
    "17  24\n",
    "\n",
    "Sample Output\n",
    "-------------\n",
    "2\n",
    "\n",
    "0"
   ]
  },
  {
   "cell_type": "code",
   "execution_count": null,
   "id": "533c9329",
   "metadata": {},
   "outputs": [],
   "source": [
    "import math\n",
    "\n",
    "# First methode\n",
    "# This is time efficient methode\n",
    "def squares(a, b):\n",
    "    # Write your code here\n",
    "    A = math.ceil(math.sqrt(a))\n",
    "    B = math.floor(math.sqrt(b))\n",
    "    \n",
    "    return (B-A)+1\n",
    "\n",
    "\n",
    "# Second methode \n",
    "# This is not time efficient methode\n",
    "c = 0\n",
    "for i in range(a, b+1):\n",
    "    s = math.sqrt(i)\n",
    "    if s == int(s):\n",
    "        c += 1\n",
    "        \n",
    "    return c"
   ]
  },
  {
   "cell_type": "markdown",
   "id": "402ce8f5",
   "metadata": {},
   "source": [
    "# CUT THE STICKS"
   ]
  },
  {
   "cell_type": "markdown",
   "id": "f55316b5",
   "metadata": {},
   "source": [
    "You are given a number of sticks of varying lengths. You will iteratively cut the sticks into smaller sticks, discarding the shortest pieces until there are none left. At each iteration you will determine the length of the shortest stick remaining, cut that length from each of the longer sticks and then discard all the pieces of that shortest length. When all the remaining sticks are the same length, they cannot be shortened so discard them.\n",
    "\n",
    "Given the lengths of n sticks, print the number of sticks that are left before each iteration until there are none left.\n",
    "\n",
    "Sample Input 0\n",
    "------------\n",
    "STDIN           Function\n",
    "-----           --------\n",
    "\n",
    "6         arr[] size n = 6\n",
    "\n",
    "5 4 4 2 2 8     arr = [5, 4, 4, 2, 2, 8]\n",
    "\n",
    "Sample Output 0\n",
    "--------------\n",
    "6\n",
    "\n",
    "4\n",
    "\n",
    "2\n",
    "\n",
    "1\n",
    "\n",
    "Explanation 0\n",
    "-----------------\n",
    "sticks-length        length-of-cut   sticks-cut\n",
    "\n",
    "5 4 4 2 2 8             2               6\n",
    "\n",
    "3 2 2 _ _ 6             2               4\n",
    "\n",
    "1 _ _ _ _ 4             1               2\n",
    "\n",
    "_ _ _ _ _ 3             3               1\n",
    "\n",
    "_ _ _ _ _ _           DONE            DONE\n",
    "\n",
    "Sample Input 1\n",
    "----------------\n",
    "8\n",
    "\n",
    "1 2 3 4 3 3 2 1\n",
    "\n",
    "Sample Output 1\n",
    "-------------\n",
    "8\n",
    "\n",
    "6\n",
    "\n",
    "4\n",
    "\n",
    "1\n",
    "\n",
    "Explanation 1\n",
    "---------------\n",
    "sticks-length         length-of-cut   sticks-cut\n",
    "\n",
    "1 2 3 4 3 3 2 1         1               8\n",
    "\n",
    "_ 1 2 3 2 2 1 _         1               6\n",
    "\n",
    "_ _ 1 2 1 1 _ _         1               4\n",
    "\n",
    "_ _ _ 1 _ _ _ _         1               1\n",
    "\n",
    "_ _ _ _ _ _ _ _       DONE            DONE"
   ]
  },
  {
   "cell_type": "code",
   "execution_count": 4,
   "id": "ff41c9da",
   "metadata": {},
   "outputs": [
    {
     "name": "stdout",
     "output_type": "stream",
     "text": [
      "8\n",
      "1 2 3 4 3 3 2 1\n",
      "[8, 6, 4, 1]\n"
     ]
    }
   ],
   "source": [
    "def cutTheSticks(arr):\n",
    "    # Write your code here\n",
    "    l = []\n",
    "    while len(arr) > 0:\n",
    "        m = min(arr)\n",
    "        l.append(len(arr))\n",
    "        arr = [(i-m)for i in arr if i!=m]\n",
    "    return l\n",
    "                \n",
    "\n",
    "if __name__ == '__main__':\n",
    "\n",
    "    n = int(input().strip())\n",
    "\n",
    "    arr = list(map(int, input().rstrip().split()))\n",
    "\n",
    "    print(cutTheSticks(arr))"
   ]
  },
  {
   "cell_type": "markdown",
   "id": "786f9178",
   "metadata": {},
   "source": [
    "# Non-Divisible Subset"
   ]
  },
  {
   "cell_type": "markdown",
   "id": "9d874da0",
   "metadata": {},
   "source": [
    "Function Description\n",
    "----------------\n",
    "Complete the nonDivisibleSubset function in the editor below.\n",
    "\n",
    "nonDivisibleSubset has the following parameter(s):\n",
    "\n",
    "* int S[n]: an array of integers\n",
    "* int k: the divisor\n",
    "\n",
    "Returns\n",
    "------------\n",
    "* int: the length of the longest subset of S meeting the criteria\n",
    "\n",
    "Sample Input\n",
    "------------\n",
    "STDIN                Function\n",
    "-----                --------\n",
    "\n",
    "4 3                S[] size n = 4, k = 3\n",
    "\n",
    "1 7 2 4              S = [1, 7, 2, 4]\n",
    "\n",
    "Sample Output\n",
    "----------\n",
    "3\n",
    "\n",
    "Explanation\n",
    "-----------------\n",
    "The sums of all permutations of two elements from S={1, 7, 2, 4} are:\n",
    "\n",
    "1 + 7 = 8\n",
    "\n",
    "1 + 2 = 3\n",
    "\n",
    "1 + 4 = 5\n",
    "\n",
    "7 + 2 = 9\n",
    "\n",
    "7 + 4 = 11\n",
    "\n",
    "2 + 4 = 6\n",
    "\n",
    "Only S' = {1, 7, 4} will not ever sum to a multiple of K=3."
   ]
  },
  {
   "cell_type": "code",
   "execution_count": null,
   "id": "8e89cc94",
   "metadata": {},
   "outputs": [],
   "source": [
    "def nonDivisibleSubset(k, s):\n",
    "    # Write your code here\n",
    "    counts = [0]*k\n",
    "    \n",
    "    for j in s:\n",
    "        counts[j%k] += 1\n",
    "        \n",
    "    count = min(counts[0], 1)\n",
    "    \n",
    "    for i in range(1, k//2+1):\n",
    "        if i != k-i:\n",
    "            count += max(counts[i], counts[k-i])\n",
    "            \n",
    "    if k%2 == 0:\n",
    "        count += 1\n",
    "        \n",
    "    return count\n",
    "\n",
    "\n",
    "if __name__ == '__main__':\n",
    "\n",
    "    first_multiple_input = input().rstrip().split()\n",
    "\n",
    "    n = int(first_multiple_input[0])\n",
    "\n",
    "    k = int(first_multiple_input[1])\n",
    "\n",
    "    s = list(map(int, input().rstrip().split()))\n",
    "\n",
    "    print(nonDivisibleSubset(k, s))"
   ]
  },
  {
   "cell_type": "code",
   "execution_count": null,
   "id": "c8f6d74c",
   "metadata": {},
   "outputs": [],
   "source": []
  },
  {
   "cell_type": "markdown",
   "id": "2273591e",
   "metadata": {},
   "source": [
    "# Repeated String"
   ]
  },
  {
   "cell_type": "code",
   "execution_count": 6,
   "id": "67278ad7",
   "metadata": {},
   "outputs": [
    {
     "data": {
      "text/plain": [
       "7"
      ]
     },
     "execution_count": 6,
     "metadata": {},
     "output_type": "execute_result"
    }
   ],
   "source": [
    "def reapetedString(s, n):\n",
    "    return s.count('a')*(n//len(s))+s[:n%len(s)].count('a')\n",
    "\n",
    "reapetedString('asd', 20)"
   ]
  },
  {
   "cell_type": "code",
   "execution_count": null,
   "id": "cc5ca519",
   "metadata": {},
   "outputs": [],
   "source": []
  }
 ],
 "metadata": {
  "kernelspec": {
   "display_name": "Python 3",
   "language": "python",
   "name": "python3"
  },
  "language_info": {
   "codemirror_mode": {
    "name": "ipython",
    "version": 3
   },
   "file_extension": ".py",
   "mimetype": "text/x-python",
   "name": "python",
   "nbconvert_exporter": "python",
   "pygments_lexer": "ipython3",
   "version": "3.8.5"
  }
 },
 "nbformat": 4,
 "nbformat_minor": 5
}
