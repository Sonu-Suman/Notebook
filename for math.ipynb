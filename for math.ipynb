{
 "cells": [
  {
   "cell_type": "code",
   "execution_count": 1,
   "id": "ec03f4ea",
   "metadata": {},
   "outputs": [],
   "source": [
    "from itertools import product, combinations, permutations, combinations_with_replacement"
   ]
  },
  {
   "cell_type": "code",
   "execution_count": 2,
   "id": "bb1884d2",
   "metadata": {},
   "outputs": [],
   "source": [
    "l = [0, 1, 2, 3, 4, 5, 6]"
   ]
  },
  {
   "cell_type": "markdown",
   "id": "52a37a45",
   "metadata": {},
   "source": [
    "## Combination \n",
    "Following cell for making combination of elements, as much as elements with you want."
   ]
  },
  {
   "cell_type": "code",
   "execution_count": 3,
   "id": "aa4fd7ac",
   "metadata": {},
   "outputs": [
    {
     "name": "stdout",
     "output_type": "stream",
     "text": [
      "[(0, 1), (0, 2), (0, 3), (0, 4), (0, 5), (0, 6), (1, 2), (1, 3), (1, 4), (1, 5), (1, 6), (2, 3), (2, 4), (2, 5), (2, 6), (3, 4), (3, 5), (3, 6), (4, 5), (4, 6), (5, 6)]\n"
     ]
    }
   ],
   "source": [
    "print(list(combinations(l, 2)))"
   ]
  },
  {
   "cell_type": "markdown",
   "id": "9462441d",
   "metadata": {},
   "source": [
    "## Permutation\n",
    "\n",
    "* Following cell for making permutation of elements, as much as elements with you want."
   ]
  },
  {
   "cell_type": "code",
   "execution_count": 4,
   "id": "89cc1f65",
   "metadata": {},
   "outputs": [
    {
     "name": "stdout",
     "output_type": "stream",
     "text": [
      "[(0, 1), (0, 2), (0, 3), (0, 4), (0, 5), (0, 6), (1, 0), (1, 2), (1, 3), (1, 4), (1, 5), (1, 6), (2, 0), (2, 1), (2, 3), (2, 4), (2, 5), (2, 6), (3, 0), (3, 1), (3, 2), (3, 4), (3, 5), (3, 6), (4, 0), (4, 1), (4, 2), (4, 3), (4, 5), (4, 6), (5, 0), (5, 1), (5, 2), (5, 3), (5, 4), (5, 6), (6, 0), (6, 1), (6, 2), (6, 3), (6, 4), (6, 5)]\n"
     ]
    }
   ],
   "source": [
    "print(list(permutations(l, 2)))"
   ]
  },
  {
   "cell_type": "markdown",
   "id": "4428490f",
   "metadata": {},
   "source": [
    "## Combination And Replacement\n",
    "\n",
    "* Following cell for making permutation and combination both together with as much numer as you want with."
   ]
  },
  {
   "cell_type": "code",
   "execution_count": 5,
   "id": "e5f14f1c",
   "metadata": {},
   "outputs": [
    {
     "name": "stdout",
     "output_type": "stream",
     "text": [
      "[(0, 0), (0, 1), (0, 2), (0, 3), (0, 4), (0, 5), (0, 6), (1, 1), (1, 2), (1, 3), (1, 4), (1, 5), (1, 6), (2, 2), (2, 3), (2, 4), (2, 5), (2, 6), (3, 3), (3, 4), (3, 5), (3, 6), (4, 4), (4, 5), (4, 6), (5, 5), (5, 6), (6, 6)]\n"
     ]
    }
   ],
   "source": [
    "print(list(combinations_with_replacement(l, 2)))"
   ]
  },
  {
   "cell_type": "markdown",
   "id": "3ab57866",
   "metadata": {},
   "source": [
    "## Product\n",
    "\n",
    "* Making permutation with repeatable numbers or not"
   ]
  },
  {
   "cell_type": "code",
   "execution_count": 6,
   "id": "4dd6a88b",
   "metadata": {},
   "outputs": [
    {
     "name": "stdout",
     "output_type": "stream",
     "text": [
      "[(0, 0), (0, 1), (0, 2), (0, 3), (0, 4), (0, 5), (0, 6), (1, 0), (1, 1), (1, 2), (1, 3), (1, 4), (1, 5), (1, 6), (2, 0), (2, 1), (2, 2), (2, 3), (2, 4), (2, 5), (2, 6), (3, 0), (3, 1), (3, 2), (3, 3), (3, 4), (3, 5), (3, 6), (4, 0), (4, 1), (4, 2), (4, 3), (4, 4), (4, 5), (4, 6), (5, 0), (5, 1), (5, 2), (5, 3), (5, 4), (5, 5), (5, 6), (6, 0), (6, 1), (6, 2), (6, 3), (6, 4), (6, 5), (6, 6)]\n"
     ]
    }
   ],
   "source": [
    "print(list(product(l, repeat=2)))"
   ]
  },
  {
   "cell_type": "code",
   "execution_count": 7,
   "id": "789c2bab",
   "metadata": {},
   "outputs": [],
   "source": [
    "from itertools import accumulate, groupby\n",
    "import operator"
   ]
  },
  {
   "cell_type": "code",
   "execution_count": 8,
   "id": "dac4a3d7",
   "metadata": {},
   "outputs": [],
   "source": [
    "a = [1, 2, 5, 3, 4]"
   ]
  },
  {
   "cell_type": "code",
   "execution_count": 10,
   "id": "1b580f31",
   "metadata": {},
   "outputs": [
    {
     "name": "stdout",
     "output_type": "stream",
     "text": [
      "[1, 3, 8, 11, 15]\n"
     ]
    }
   ],
   "source": [
    "acc = accumulate(a)\n",
    "print(list(acc))"
   ]
  },
  {
   "cell_type": "code",
   "execution_count": 11,
   "id": "57ca596a",
   "metadata": {},
   "outputs": [
    {
     "name": "stdout",
     "output_type": "stream",
     "text": [
      "[1, 2, 5, 3, 4]\n",
      "[1, 2, 10, 30, 120]\n"
     ]
    }
   ],
   "source": [
    "acc = accumulate(a, func=operator.mul)\n",
    "print(a)\n",
    "print(list(acc))"
   ]
  },
  {
   "cell_type": "code",
   "execution_count": 12,
   "id": "00721ee1",
   "metadata": {},
   "outputs": [
    {
     "name": "stdout",
     "output_type": "stream",
     "text": [
      "[1, 2, 5, 3, 4]\n",
      "[1, 2, 5, 5, 5]\n"
     ]
    }
   ],
   "source": [
    "acc = accumulate(a, func=max)\n",
    "print(a)\n",
    "print(list(acc))"
   ]
  },
  {
   "cell_type": "code",
   "execution_count": 13,
   "id": "5d72cd40",
   "metadata": {},
   "outputs": [],
   "source": [
    "def smaller_than_3(x):\n",
    "    return x<3"
   ]
  },
  {
   "cell_type": "code",
   "execution_count": 14,
   "id": "8c71b2dd",
   "metadata": {},
   "outputs": [
    {
     "name": "stdout",
     "output_type": "stream",
     "text": [
      "True [1, 2]\n",
      "False [5, 3, 4]\n"
     ]
    }
   ],
   "source": [
    "group_obj = groupby(a, key=smaller_than_3)\n",
    "\n",
    "for key, value in group_obj:\n",
    "    print(key, list(value))"
   ]
  },
  {
   "cell_type": "code",
   "execution_count": 15,
   "id": "9540daed",
   "metadata": {},
   "outputs": [
    {
     "name": "stdout",
     "output_type": "stream",
     "text": [
      "True [1, 2]\n",
      "False [5, 3, 4]\n"
     ]
    }
   ],
   "source": [
    "group_ob = groupby(a, key=lambda x: x<3)\n",
    "\n",
    "for key, value in group_ob:\n",
    "    print(key, list(value))"
   ]
  },
  {
   "cell_type": "code",
   "execution_count": 16,
   "id": "87d9e181",
   "metadata": {},
   "outputs": [],
   "source": [
    "person = [{'name': 'Suman', 'age': 21}, {'name': 'Sonu', 'age': 19}, {'name': 'Ankit', 'age': 9},\n",
    "            {'name': 'Lovekush', 'age': 16}, {'name': 'kumar', 'age': 28}]"
   ]
  },
  {
   "cell_type": "code",
   "execution_count": 17,
   "id": "93b2a0ee",
   "metadata": {},
   "outputs": [
    {
     "name": "stdout",
     "output_type": "stream",
     "text": [
      "21 [{'name': 'Suman', 'age': 21}]\n",
      "19 [{'name': 'Sonu', 'age': 19}]\n",
      "9 [{'name': 'Ankit', 'age': 9}]\n",
      "16 [{'name': 'Lovekush', 'age': 16}]\n",
      "28 [{'name': 'kumar', 'age': 28}]\n"
     ]
    }
   ],
   "source": [
    "group_ob = groupby(person, key=lambda x: x['age'])\n",
    "\n",
    "for key, value in group_ob:\n",
    "    print(key, list(value))"
   ]
  },
  {
   "cell_type": "code",
   "execution_count": 18,
   "id": "db4efbcd",
   "metadata": {},
   "outputs": [],
   "source": [
    "from itertools import count, cycle, repeat"
   ]
  },
  {
   "cell_type": "code",
   "execution_count": 19,
   "id": "1ce12565",
   "metadata": {},
   "outputs": [
    {
     "name": "stdout",
     "output_type": "stream",
     "text": [
      "10\n",
      "11\n",
      "12\n",
      "13\n",
      "14\n",
      "15\n"
     ]
    }
   ],
   "source": [
    "for i in count(10):\n",
    "    print(i)\n",
    "    if i == 15:\n",
    "        break"
   ]
  },
  {
   "cell_type": "code",
   "execution_count": 20,
   "id": "d7aaf91a",
   "metadata": {},
   "outputs": [],
   "source": [
    "ab = [1, 2, 3]\n"
   ]
  },
  {
   "cell_type": "code",
   "execution_count": 21,
   "id": "662c326d",
   "metadata": {},
   "outputs": [
    {
     "name": "stdout",
     "output_type": "stream",
     "text": [
      "1\n",
      "2\n",
      "3\n",
      "1\n",
      "2\n",
      "3\n",
      "1\n"
     ]
    }
   ],
   "source": [
    "m = 0\n",
    "\n",
    "for i in cycle(ab):\n",
    "    print(i)\n",
    "    if m == 6:\n",
    "        break\n",
    "    m += 1"
   ]
  },
  {
   "cell_type": "code",
   "execution_count": 22,
   "id": "9f5e33a7",
   "metadata": {},
   "outputs": [
    {
     "name": "stdout",
     "output_type": "stream",
     "text": [
      "1\n",
      "1\n",
      "1\n",
      "1\n",
      "1\n",
      "1\n"
     ]
    }
   ],
   "source": [
    "for i in repeat(1, 6):\n",
    "    print(i)"
   ]
  }
 ],
 "metadata": {
  "kernelspec": {
   "display_name": "Python 3 (ipykernel)",
   "language": "python",
   "name": "python3"
  },
  "language_info": {
   "codemirror_mode": {
    "name": "ipython",
    "version": 3
   },
   "file_extension": ".py",
   "mimetype": "text/x-python",
   "name": "python",
   "nbconvert_exporter": "python",
   "pygments_lexer": "ipython3",
   "version": "3.9.6"
  }
 },
 "nbformat": 4,
 "nbformat_minor": 5
}
