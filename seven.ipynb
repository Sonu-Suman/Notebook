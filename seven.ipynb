{
 "cells": [
  {
   "cell_type": "markdown",
   "id": "089650cb",
   "metadata": {},
   "source": [
    "# Equalize the array"
   ]
  },
  {
   "cell_type": "markdown",
   "id": "28566e72",
   "metadata": {},
   "source": [
    "Given an array of integers, determine the minimum number of elements to delete to leave only elements of equal value.\n",
    "\n",
    "Sample Input\n",
    "----------------\n",
    "STDIN       Function\n",
    "-----       --------\n",
    "\n",
    "5           arr[] size n = 5\n",
    "\n",
    "3 3 2 1 3   arr = [3, 3, 2, 1, 3]\n",
    "\n",
    "Sample Output\n",
    "-----------\n",
    "2  "
   ]
  },
  {
   "cell_type": "code",
   "execution_count": 1,
   "id": "d2378efd",
   "metadata": {},
   "outputs": [
    {
     "name": "stdout",
     "output_type": "stream",
     "text": [
      "5\n",
      "3 3 2 1 3\n",
      "2\n"
     ]
    }
   ],
   "source": [
    "from collections import Counter\n",
    "\n",
    "def equalizeArray(arr):\n",
    "    # Write your code here\n",
    "    return len(arr) - max(Counter(arr).values())\n",
    "\n",
    "\n",
    "if __name__ == '__main__':\n",
    "\n",
    "    n = int(input().strip())\n",
    "\n",
    "    arr = list(map(int, input().rstrip().split()))\n",
    "\n",
    "    print(equalizeArray(arr))"
   ]
  },
  {
   "cell_type": "markdown",
   "id": "065eb929",
   "metadata": {},
   "source": [
    "# ACM ICPC Team\n",
    "\n",
    "\n",
    "There are a number of people who will be attending ACM-ICPC World Finals. Each of them may be well versed in a number of topics. Given a list of topics known by each attendee, presented as binary strings, determine the maximum number of topics a 2-person team can know. Each subject has a column in the binary string, and a '1' means the subject is known while '0' means it is not. Also determine the number of teams that know the maximum number of topics. Return an integer array with two elements. The first is the maximum number of topics known, and the second is the number of teams that know that number of topics.\n",
    "\n",
    "Example\n",
    "------------\n",
    "n = 3, \n",
    "topics = ['10101', '11110', '00010']\n",
    "\n",
    "The attendee data is aligned for clarity below:\n",
    "\n",
    "10101\n",
    "\n",
    "11110\n",
    "\n",
    "00010\n",
    "\n",
    "These are all possible teams that can be formed:\n",
    "\n",
    "Members Subject\n",
    "\n",
    "(1,2)   [1,2,3,4,5]\n",
    "\n",
    "(1,3)   [1,3,4,5]\n",
    "\n",
    "(2,3)   [1,2,3,4]\n",
    "\n",
    "\n",
    "Function Description\n",
    "----------\n",
    "Complete the acmTeam function in the editor below.\n",
    "acmTeam has the following parameter(s):\n",
    "\n",
    "* string topic: a string of binary digits\n",
    "\n",
    "Returns\n",
    "-----------\n",
    "* int[2]: the maximum topics and the number of teams that know that many topics\n",
    "\n",
    "Input Format\n",
    "---------------\n",
    "The first line contains two space-separated integers n and m, where n is the number of attendees and m is the number of topics.\n",
    "\n",
    "Each of the next n lines contains a binary string of length m.\n",
    "\n",
    "\n",
    "Sample Input\n",
    "---------\n",
    "4 5\n",
    "\n",
    "10101\n",
    "\n",
    "11100\n",
    "\n",
    "11010\n",
    "\n",
    "00101\n",
    "\n",
    "Sample Output\n",
    "------\n",
    "5\n",
    "\n",
    "2\n"
   ]
  },
  {
   "cell_type": "code",
   "execution_count": 3,
   "id": "b21255f4",
   "metadata": {},
   "outputs": [
    {
     "name": "stdout",
     "output_type": "stream",
     "text": [
      "6 5\n",
      "11101\n",
      "10101\n",
      "11001\n",
      "10111\n",
      "10000\n",
      "01110\n",
      "[5, 6]\n"
     ]
    }
   ],
   "source": [
    "def acmTeam(topic):\n",
    "    d = []\n",
    "    resdic = {}\n",
    "    m = 0\n",
    "    for t in topic:\n",
    "        temp = set()\n",
    "        for i in range(len(t)):\n",
    "            if t[i]=='1':\n",
    "                temp.add(i)\n",
    "        d.append(temp.copy())\n",
    "    # print(d)\n",
    "    for i in range(len(d)-1):\n",
    "        for j in range(i+1,len(d)):\n",
    "            l = len(d[i].union(d[j]))\n",
    "            m = max(m,l)\n",
    "            resdic[l]=resdic.get(l,0)+1\n",
    "    return [m,resdic[m]]\n",
    "\n",
    "\n",
    "if __name__ == '__main__':\n",
    "\n",
    "    first_multiple_input = input().rstrip().split()\n",
    "\n",
    "    n = int(first_multiple_input[0])\n",
    "\n",
    "    m = int(first_multiple_input[1])\n",
    "\n",
    "    topic = []\n",
    "\n",
    "    for _ in range(n):\n",
    "        topic_item = input()\n",
    "        topic.append(topic_item)\n",
    "\n",
    "    print(acmTeam(topic))"
   ]
  },
  {
   "cell_type": "markdown",
   "id": "da8fdef3",
   "metadata": {},
   "source": [
    "# Message Encription"
   ]
  },
  {
   "cell_type": "markdown",
   "id": "7f93b456",
   "metadata": {},
   "source": [
    "Sample Input\n",
    "----------\n",
    "haveaniceday\n",
    "\n",
    "Sample Output 0\n",
    "-----------------\n",
    "hae and via ecy\n",
    "\n",
    "Sample Input 1\n",
    "---------\n",
    "feedthedog \n",
    "\n",
    "Sample Output 1\n",
    "--------------\n",
    "fto ehg ee dd\n",
    "\n",
    "Sample Input 2\n",
    "--------\n",
    "chillout\n",
    "\n",
    "Sample Output 2\n",
    "-------------\n",
    "clu hlt io"
   ]
  },
  {
   "cell_type": "code",
   "execution_count": 1,
   "id": "67a774d7",
   "metadata": {},
   "outputs": [
    {
     "name": "stdout",
     "output_type": "stream",
     "text": [
      "Hello Bharat Chandravashi, How are you\n",
      "HhhvHy eaaaoo lrnswu ladha otrir BCa,e "
     ]
    }
   ],
   "source": [
    "import math\n",
    "\n",
    "\n",
    "def encryption(s):\n",
    "    # Write your code here\n",
    "    r = s.replace(' ', '')\n",
    "    f = math.floor(math.sqrt(len(r)))\n",
    "    c = math.ceil(math.sqrt(len(r)))\n",
    "    for i in range(c):\n",
    "        print(r[i::c], end=' ')\n",
    "\n",
    "if __name__ == '__main__':\n",
    "    s = input()\n",
    "\n",
    "    encryption(s)"
   ]
  },
  {
   "cell_type": "code",
   "execution_count": null,
   "id": "680506b4",
   "metadata": {},
   "outputs": [],
   "source": [
    "k = 0\n",
    "\n",
    "for i in range(c):\n",
    "    print(m[k:k+c], end='\\n')\n",
    "    k += c"
   ]
  },
  {
   "cell_type": "markdown",
   "id": "03a6c9f9",
   "metadata": {},
   "source": [
    "# Bigger is Greater"
   ]
  },
  {
   "cell_type": "markdown",
   "id": "d8905038",
   "metadata": {},
   "source": [
    "Lexicographical order is often known as alphabetical order when dealing with strings. A string is greater than another string if it comes later in a lexicographically sorted list.\n",
    "\n",
    "Given a word, create a new word by swapping some or all of its characters. This new word must meet two criteria:\n",
    "\n",
    "* It must be greater than the original word\n",
    "* It must be the smallest word that meets the first condition\n",
    "\n",
    "Example\n",
    "-----\n",
    "w = 'abcd'.\n",
    "The next largest word is abcd.\n",
    "\n",
    "Complete the function biggerIsGreater below to create and return the new string meeting the criteria. If it is not possible, return no answer.\n",
    "\n",
    "Function Description\n",
    "------------\n",
    "Complete the biggerIsGreater function in the editor below.\n",
    "\n",
    "biggerIsGreater has the following parameter(s):\n",
    "\n",
    "* string w: a word\n",
    "\n",
    "Returns\n",
    "-------\n",
    "- string: the smallest lexicographically higher string possible or no answer\n",
    "\n",
    "Sample Input 0\n",
    "----\n",
    "5\n",
    "\n",
    "ab\n",
    "\n",
    "bb\n",
    "\n",
    "hefg\n",
    "\n",
    "dhck\n",
    "\n",
    "dkhc\n",
    "\n",
    "Sample Output 0\n",
    "--------\n",
    "ba\n",
    "\n",
    "no answer\n",
    "\n",
    "hegf\n",
    "\n",
    "dhkc\n",
    "\n",
    "hcdk\n",
    "\n",
    "Explanation 0\n",
    "-----\n",
    "Test case 1:\n",
    "\n",
    "ba is the only string which can be made by rearranging ab. It is greater.\n",
    "\n",
    "Test case 2:\n",
    "\n",
    "It is not possible to rearrange bb and get a greater string.\n",
    "\n",
    "Test case 3:\n",
    "\n",
    "hegf is the next string greater than hefg.\n",
    "\n",
    "Test case 4:\n",
    "\n",
    "dhkc is the next string greater than dhck.\n",
    "\n",
    "Test case 5:\n",
    "\n",
    "hcdk is the next string greater than dkhc."
   ]
  },
  {
   "cell_type": "code",
   "execution_count": 2,
   "id": "8b348e98",
   "metadata": {},
   "outputs": [
    {
     "name": "stdout",
     "output_type": "stream",
     "text": [
      "1\n",
      "abcdef\n",
      "abcdfe\n"
     ]
    }
   ],
   "source": [
    "def biggerIsGreater(w):\n",
    "    # Write your code here\n",
    "    arr = list(w)\n",
    "    i = len(arr)-1\n",
    "    \n",
    "    while i>0 and arr[i-1] >= arr[i]:\n",
    "        i -= 1\n",
    "        \n",
    "    if i <=0:\n",
    "        return 'no answer'\n",
    "    \n",
    "    j = len(arr)-1\n",
    "    while arr[j] <= arr[i-1]:\n",
    "        j -= 1\n",
    "        \n",
    "    arr[i-1], arr[j] = arr[j], arr[i-1]\n",
    "    \n",
    "    arr[i:] = arr[len(arr)-1:i-1:-1]\n",
    "    \n",
    "    return ''.join(arr)\n",
    "\n",
    "if __name__ == '__main__':\n",
    "    T = int(input().strip())\n",
    "\n",
    "    for T_itr in range(T):\n",
    "        w = input()\n",
    "\n",
    "        print(biggerIsGreater(w))"
   ]
  },
  {
   "cell_type": "markdown",
   "id": "d27a3a96",
   "metadata": {},
   "source": [
    "# Modified Kaprekar Numbers#"
   ]
  },
  {
   "cell_type": "markdown",
   "id": "c153ed36",
   "metadata": {},
   "source": [
    "* Definition: \n",
    "In mathematics, a Kaprekar number for a given base is a non-negative integer, the representation of whose square in that base can be split into two parts that add up to the original number again. For instance, 45 is a Kaprekar number, because 45² = 2025 and 20+25 = 45.\n",
    "\n",
    "Sample Input\n",
    "---------\n",
    "STDIN   Function\n",
    "-----   --------\n",
    "1       p = 1\n",
    "\n",
    "100     q = 100\n",
    "\n",
    "Sample Output\n",
    "----------\n",
    "1 9 45 55 99\n",
    "\n",
    "Explanation\n",
    "---------\n",
    "1, 9, 45, 55, and 99 are the modified Kaprekar Numbers in the given range."
   ]
  },
  {
   "cell_type": "code",
   "execution_count": 3,
   "id": "db5e6291",
   "metadata": {},
   "outputs": [
    {
     "name": "stdout",
     "output_type": "stream",
     "text": [
      "1\n",
      "100\n",
      "1 9 45 55 99 "
     ]
    }
   ],
   "source": [
    "def kaprekarNumbers(p, q):\n",
    "    # Write your code here\n",
    "    u = 0\n",
    "    for i in range(p,q+1):\n",
    "        sq = i*i\n",
    "        l2 = [str(sq)]\n",
    "        \n",
    "        if len(l2[0])//2>0:\n",
    "            sm = 0 + int(l2[0][:len(l2[0])//2])\n",
    "            sm += int(l2[0][len(l2[0])//2:])\n",
    "        else:\n",
    "            sm = 0 + int(l2[0][:1])\n",
    "            \n",
    "        if sm==i:\n",
    "            print(i, end=' ')\n",
    "            u += 1\n",
    "            \n",
    "    if u == 0:\n",
    "        print('INVALID RANGE')\n",
    "        \n",
    "\n",
    "if __name__ == '__main__':\n",
    "    p = int(input().strip())\n",
    "\n",
    "    q = int(input().strip())\n",
    "\n",
    "    kaprekarNumbers(p, q)"
   ]
  },
  {
   "cell_type": "code",
   "execution_count": 4,
   "id": "275b15fb",
   "metadata": {},
   "outputs": [
    {
     "name": "stdout",
     "output_type": "stream",
     "text": [
      "1\n",
      "9\n",
      "10\n",
      "18\n",
      "19\n",
      "45\n",
      "46\n",
      "55\n",
      "90\n",
      "99\n"
     ]
    }
   ],
   "source": [
    "# This code is helping for solution building\n",
    "\n",
    "for i in range(1, 100):\n",
    "    l1 = [str(i)]\n",
    "    s = i**2\n",
    "    l2 = [str(s)]\n",
    "    # print(l1)\n",
    "    # print(l2)\n",
    "    sum1 = 0\n",
    "    sum2 = 0\n",
    "    for j in range(len(l1[0])):\n",
    "        sum1 += int(l1[0][j])\n",
    "\n",
    "    for k in range(len(l2[0])):\n",
    "        sum2 += int(l2[0][k])\n",
    "\n",
    "\n",
    "    if sum1 == sum2:\n",
    "        print(i)"
   ]
  },
  {
   "cell_type": "markdown",
   "id": "dc805fae",
   "metadata": {},
   "source": [
    "# Beautiful Triplets"
   ]
  },
  {
   "cell_type": "markdown",
   "id": "1cbe989a",
   "metadata": {},
   "source": [
    "Function Description\n",
    "-----------\n",
    "Complete the beautifulTriplets function in the editor below.\n",
    "\n",
    "beautifulTriplets has the following parameters:\n",
    "\n",
    "* int d: the value to match\n",
    "* int arr[n]: the sequence, sorted ascending\n",
    "\n",
    "Returns\n",
    "-------\n",
    "int: the number of beautiful triplets\n",
    "\n",
    "Input Format\n",
    "-----\n",
    "The first line contains 2 space-separated integers, n and d, the length of the sequence and the beautiful difference.\n",
    "The second line contains n space-separated integers arr[i].\n",
    "\n",
    "Sample Input\n",
    "---------\n",
    "\n",
    "STDIN           Function\n",
    "-----           --------\n",
    "7 3             arr[] size n = 7, d = 3\n",
    "\n",
    "1 2 4 5 7 8 10  arr = [1, 2, 4, 5, 7, 8, 10]\n",
    "\n",
    "Sample Output\n",
    "--------\n",
    "3"
   ]
  },
  {
   "cell_type": "code",
   "execution_count": 5,
   "id": "142f995f",
   "metadata": {},
   "outputs": [
    {
     "name": "stdout",
     "output_type": "stream",
     "text": [
      "7 3\n",
      "1 2 4 5 7 8 10\n",
      "3\n"
     ]
    }
   ],
   "source": [
    "def beautifulTriplets(d, arr):\n",
    "    # Write your code here\n",
    "    print(sum([(i+d in arr and i-d in arr) for i in arr]))\n",
    "\n",
    "    \n",
    "if __name__ == '__main__':\n",
    "\n",
    "    first_multiple_input = input().rstrip().split()\n",
    "\n",
    "    n = int(first_multiple_input[0])\n",
    "\n",
    "    d = int(first_multiple_input[1])\n",
    "\n",
    "    arr = list(map(int, input().rstrip().split()))\n",
    "\n",
    "    beautifulTriplets(d, arr)"
   ]
  },
  {
   "cell_type": "code",
   "execution_count": null,
   "id": "681d0a1a",
   "metadata": {},
   "outputs": [],
   "source": []
  }
 ],
 "metadata": {
  "kernelspec": {
   "display_name": "Python 3",
   "language": "python",
   "name": "python3"
  },
  "language_info": {
   "codemirror_mode": {
    "name": "ipython",
    "version": 3
   },
   "file_extension": ".py",
   "mimetype": "text/x-python",
   "name": "python",
   "nbconvert_exporter": "python",
   "pygments_lexer": "ipython3",
   "version": "3.8.5"
  }
 },
 "nbformat": 4,
 "nbformat_minor": 5
}
