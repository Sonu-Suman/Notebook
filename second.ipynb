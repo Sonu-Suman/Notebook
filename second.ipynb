{
 "cells": [
  {
   "cell_type": "code",
   "execution_count": 1,
   "id": "77943713",
   "metadata": {},
   "outputs": [
    {
     "name": "stdout",
     "output_type": "stream",
     "text": [
      "3\n",
      "1 0\n",
      "Error Code: integer division or modulo by zero\n",
      "2 $\n",
      "Error Code: invalid literal for int() with base 10: '$'\n",
      "3 1\n",
      "3\n"
     ]
    }
   ],
   "source": [
    "for _ in range(int(input())):\n",
    "    a, b = input().split()\n",
    "    \n",
    "    try:\n",
    "        a= int(a)\n",
    "        b= int(b)\n",
    "        try:\n",
    "            s = a/b\n",
    "            print(int(s))\n",
    "        except:\n",
    "            print('Error Code: integer division or modulo by zero')\n",
    "    except ValueError as e:\n",
    "        print(\"Error Code:\", e)"
   ]
  },
  {
   "cell_type": "code",
   "execution_count": 2,
   "id": "bc6fea75",
   "metadata": {},
   "outputs": [
    {
     "name": "stdout",
     "output_type": "stream",
     "text": [
      "2\n",
      ".*\\+\n",
      "True\n",
      ".*+\n",
      "False\n"
     ]
    }
   ],
   "source": [
    "import re\n",
    "\n",
    "for _ in range(int(input())):\n",
    "    a = 'True'\n",
    "    \n",
    "    try:\n",
    "        reg = re.compile(input())\n",
    "    except re.error:\n",
    "        a = 'False'\n",
    "        \n",
    "    print(a)"
   ]
  },
  {
   "cell_type": "code",
   "execution_count": 5,
   "id": "8b6be56d",
   "metadata": {},
   "outputs": [
    {
     "name": "stdout",
     "output_type": "stream",
     "text": [
      "5\n",
      "1\n",
      "22\n",
      "333\n",
      "4444\n",
      "\n",
      "\n",
      "5\n",
      "1\n",
      "22\n",
      "333\n",
      "4444\n"
     ]
    }
   ],
   "source": [
    "for i in range(1,int(input())):\n",
    "    print(((10**i)//9)*i)\n",
    "    \n",
    "print('\\n')\n",
    "for i in range(1, int(input())):\n",
    "    print(int(str(i)*i))"
   ]
  },
  {
   "cell_type": "code",
   "execution_count": 26,
   "id": "b50f620a",
   "metadata": {},
   "outputs": [
    {
     "data": {
      "text/plain": [
       "'username@hackerrank.com'"
      ]
     },
     "execution_count": 26,
     "metadata": {},
     "output_type": "execute_result"
    }
   ],
   "source": [
    "import re\n",
    "\n",
    "m = re.match(r'(\\w+)@(\\w+)\\.(\\w+)','username@hackerrank.com')\n",
    "\n",
    "m.group(0)"
   ]
  },
  {
   "cell_type": "code",
   "execution_count": 27,
   "id": "37558e15",
   "metadata": {},
   "outputs": [
    {
     "data": {
      "text/plain": [
       "('username', 'hackerrank', 'com')"
      ]
     },
     "execution_count": 27,
     "metadata": {},
     "output_type": "execute_result"
    }
   ],
   "source": [
    "m.group(1, 2, 3)"
   ]
  },
  {
   "cell_type": "code",
   "execution_count": 13,
   "id": "c14fe109",
   "metadata": {},
   "outputs": [
    {
     "data": {
      "text/plain": [
       "{'user': 'myname', 'website': 'hackerrank', 'extension': 'com'}"
      ]
     },
     "execution_count": 13,
     "metadata": {},
     "output_type": "execute_result"
    }
   ],
   "source": [
    "m = re.match(r'(?P<user>\\w+)@(?P<website>\\w+)\\.(?P<extension>\\w+)','myname@hackerrank.com')\n",
    "    \n",
    "m.groupdict()"
   ]
  },
  {
   "cell_type": "code",
   "execution_count": 17,
   "id": "74faa004",
   "metadata": {},
   "outputs": [
    {
     "name": "stdout",
     "output_type": "stream",
     "text": [
      "..12345678910111213141516171820212223\n",
      "1\n"
     ]
    }
   ],
   "source": [
    "import re\n",
    "\n",
    "pattern = re.search(r'(\\w(?!_))\\1+', input().strip())\n",
    "print(pattern.group(1) if pattern else -1)"
   ]
  },
  {
   "cell_type": "code",
   "execution_count": 18,
   "id": "ff1dcc21",
   "metadata": {},
   "outputs": [
    {
     "name": "stdout",
     "output_type": "stream",
     "text": [
      "..12345678910111213141516171820212223\n",
      "1\n"
     ]
    }
   ],
   "source": [
    "import re\n",
    "\n",
    "m = re.search(r'([a-zA-Z0-9])\\1+', input().strip())\n",
    "print(m.group(1) if m else -1)"
   ]
  },
  {
   "cell_type": "markdown",
   "id": "cbf76cb2",
   "metadata": {},
   "source": [
    "You are given a valid XML document, and you have to print the maximum level of nesting in it. Take the depth of the root as 0.\n",
    "\n",
    "Input Format\n",
    "------------\n",
    "The first line contains N, the number of lines in the XML document.\n",
    "The next N lines follow containing the XML document.\n",
    "\n",
    "Output Format\n",
    "----------------\n",
    "Output a single line, the integer value of the maximum level of nesting in the XML document.\n",
    "\n",
    "Sample Input\n",
    "-----------\n",
    "6\n",
    "\n",
    " <feed xml:lang='en'>\n",
    "    \n",
    "     <title>HackerRank</title>\n",
    "    \n",
    "     <subtitle lang='en'>Programming challenges</subtitle>\n",
    "    \n",
    "     <link rel='alternate' type='text/html' href='http://hackerrank.com/'/>\n",
    "    \n",
    "     <updated>2013-12-25T12:00:00</updated>\n",
    "    \n",
    " </feed>\n",
    "\n",
    "Sample Output\n",
    "-------------\n",
    "1\n",
    "\n",
    "Explanation\n",
    "------------\n",
    "Here, the root is a feed tag, which has depth of 0.\n",
    "\n",
    "The tags title, subtitle, link and updated all have a depth of 1.\n",
    "\n",
    "Thus, the maximum depth is 1."
   ]
  },
  {
   "cell_type": "code",
   "execution_count": 19,
   "id": "bf11e23b",
   "metadata": {},
   "outputs": [
    {
     "name": "stdout",
     "output_type": "stream",
     "text": [
      "6\n",
      "<feed xml:lang='en'>\n",
      "    <title>HackerRank</title>\n",
      "    <subtitle lang='en'>Programming challenges</subtitle>\n",
      "    <link rel='alternate' type='text/html' href='http://hackerrank.com/'/>\n",
      "    <updated>2013-12-25T12:00:00</updated>\n",
      "</feed>\n",
      "1\n"
     ]
    }
   ],
   "source": [
    "import xml.etree.ElementTree as etree\n",
    "\n",
    "maxdepth = 0\n",
    "def depth(elem, level):\n",
    "    global maxdepth\n",
    "    # your code goes here\n",
    "    if (level == maxdepth):\n",
    "        maxdepth += 1\n",
    "        \n",
    "    for child in elem:\n",
    "        depth(child, level+1)\n",
    "\n",
    "if __name__ == '__main__':\n",
    "    n = int(input())\n",
    "    xml = \"\"\n",
    "    for i in range(n):\n",
    "        xml =  xml + input() + \"\\n\"\n",
    "    tree = etree.ElementTree(etree.fromstring(xml))\n",
    "    depth(tree.getroot(), -1)\n",
    "    print(maxdepth)"
   ]
  },
  {
   "cell_type": "markdown",
   "id": "65e0ce42",
   "metadata": {},
   "source": [
    "Output Format\n",
    "\n",
    "A list on a single line containing the cubes of the first N fibonacci numbers.\n",
    "\n",
    "Sample Input\n",
    "--------\n",
    "5\n",
    "\n",
    "Sample Output\n",
    "-------------\n",
    "[0, 1, 1, 8, 27]"
   ]
  },
  {
   "cell_type": "code",
   "execution_count": 24,
   "id": "4246be79",
   "metadata": {},
   "outputs": [
    {
     "name": "stdout",
     "output_type": "stream",
     "text": [
      "2\n",
      "[0, 1]\n"
     ]
    }
   ],
   "source": [
    "cube = lambda x: x**3# complete the lambda function \n",
    "\n",
    "def fibonacci(n):\n",
    "    # return a list of fibonacci numbers\n",
    "    global fib\n",
    "    i = 1\n",
    "    if n == 0:\n",
    "        fib = []\n",
    "    elif n == 1:\n",
    "        fib = [0]\n",
    "    elif n == 2:\n",
    "        fib = [0, 1]\n",
    "    elif n > 2:\n",
    "        fib = [0, 1]\n",
    "        while i < (n - 1):\n",
    "            fib.append(fib[i]+fib[i-1])\n",
    "            i += 1\n",
    "    return fib\n",
    "\n",
    "if __name__ == '__main__':\n",
    "    n = int(input())\n",
    "    print(list(map(cube, fibonacci(n))))"
   ]
  },
  {
   "cell_type": "markdown",
   "id": "4924fc09",
   "metadata": {},
   "source": [
    "## Vlidating Email right or not"
   ]
  },
  {
   "cell_type": "code",
   "execution_count": null,
   "id": "7eb10027",
   "metadata": {},
   "outputs": [],
   "source": [
    "import re\n",
    "\n",
    "def fun(s):\n",
    "  pattern = re.compile(\"^[\\\\w-]+@[0-9a-zA-Z]+\\\\.[a-z]{1,3}$\")\n",
    "  return pattern.match(s)"
   ]
  },
  {
   "cell_type": "code",
   "execution_count": null,
   "id": "15770d03",
   "metadata": {},
   "outputs": [],
   "source": [
    "import re\n",
    "\n",
    "def fun(s):\n",
    "    # return True if s is a valid email, else return False\n",
    "    l = []\n",
    "    for email in range(n):\n",
    "        pattern = re.search(r'((\\w+)(_-(\\d+))?)@(\\w+).com', s)\n",
    "        \n",
    "        l.append(pattern.group(0))\n",
    "    \n",
    "    return l\n",
    "    \n",
    "\n",
    "def filter_mail(emails):\n",
    "    return list(filter(fun, emails))\n",
    "\n",
    "if __name__ == '__main__':\n",
    "    n = int(input())\n",
    "    emails = []\n",
    "    for _ in range(n):\n",
    "        emails.append(input())\n",
    "\n",
    "filtered_emails = filter_mail(emails)\n",
    "filtered_emails.sort()\n",
    "print(filtered_emails)"
   ]
  },
  {
   "cell_type": "code",
   "execution_count": null,
   "id": "63fca2b3",
   "metadata": {},
   "outputs": [],
   "source": []
  },
  {
   "cell_type": "code",
   "execution_count": null,
   "id": "79568c5c",
   "metadata": {},
   "outputs": [],
   "source": [
    "import math\n",
    "class Points(object):\n",
    "    def __init__(self, x, y, z):\n",
    "        self.x=x\n",
    "        self.y=y\n",
    "        self.z=z\n",
    "\n",
    "    def __sub__(self, no):\n",
    "        return  Points((self.x-no.x),(self.y-no.y),(self.z-no.z))\n",
    "\n",
    "    def dot(self, no):\n",
    "        return (self.x*no.x)+(self.y*no.y)+(self.z*no.z)\n",
    "\n",
    "    def cross(self, no):\n",
    "        return Points((self.y*no.z-self.z*no.y),(self.z*no.x-self.x*no.z),(self.x*no.y-self.y*no.x))\n",
    "        \n",
    "    def absolute(self):\n",
    "        return pow((self.x ** 2 + self.y ** 2 + self.z ** 2), 0.5)\n",
    "if __name__ == '__main__':\n",
    "    points = list()\n",
    "    for i in range(4):\n",
    "        a = list(map(float, input().split()))\n",
    "        points.append(a)\n",
    "\n",
    "    a, b, c, d = Points(*points[0]), Points(*points[1]), Points(*points[2]), Points(*points[3])\n",
    "    x = (b - a).cross(c - b)\n",
    "    y = (c - b).cross(d - c)\n",
    "    angle = math.acos(x.dot(y) / (x.absolute() * y.absolute()))\n",
    "\n",
    "    print(\"%.2f\" % math.degrees(angle))"
   ]
  },
  {
   "cell_type": "markdown",
   "id": "543ecc1c",
   "metadata": {},
   "source": [
    "# A.T.M. Code"
   ]
  },
  {
   "cell_type": "code",
   "execution_count": 30,
   "id": "5fffe5e0",
   "metadata": {},
   "outputs": [
    {
     "name": "stdout",
     "output_type": "stream",
     "text": [
      "42 120\n",
      "120.0\n"
     ]
    }
   ],
   "source": [
    "w_b, a_b = map(float, input().split())\n",
    "\n",
    "if w_b >= a_b:\n",
    "    print(a_b)\n",
    "elif (w_b%5!=0):\n",
    "    print(a_b)\n",
    "elif w_b < a_b:\n",
    "    s_b = a_b - (w_b+0.5)\n",
    "    print(s_b)"
   ]
  },
  {
   "cell_type": "code",
   "execution_count": 37,
   "id": "9450ca84",
   "metadata": {},
   "outputs": [
    {
     "name": "stdout",
     "output_type": "stream",
     "text": [
      "-1 24\n",
      "24.0\n"
     ]
    }
   ],
   "source": [
    "w_b, a_b = map(float, input().split())\n",
    "\n",
    "if ((w_b%5==0) and (w_b < (a_b-0.5)) and (0<w_b) and (0<a_b)):\n",
    "    s_b = a_b - (w_b+0.5)\n",
    "    print(s_b)\n",
    "else:\n",
    "    print(a_b)"
   ]
  },
  {
   "cell_type": "markdown",
   "id": "a92a6b79",
   "metadata": {},
   "source": [
    "# Time Delta"
   ]
  },
  {
   "cell_type": "code",
   "execution_count": null,
   "id": "59dcc49f",
   "metadata": {},
   "outputs": [],
   "source": [
    "from datetime import datetime\n",
    "\n",
    "def delta(d1,d2):\n",
    "    f= '%a %d %b %Y %H:%M:%S %z'\n",
    "    d1 = datetime.strptime(d1, f) \n",
    "    d2 = datetime.strptime(d2, f) \n",
    "    diff = (d2-d1).total_seconds()  \n",
    "    return abs(int(diff))\n",
    "\n",
    "for _ in range(int(input())):\n",
    "    print(delta(input(), input()))"
   ]
  },
  {
   "cell_type": "code",
   "execution_count": null,
   "id": "1c93fd92",
   "metadata": {},
   "outputs": [],
   "source": []
  },
  {
   "cell_type": "code",
   "execution_count": 42,
   "id": "322d7fbc",
   "metadata": {},
   "outputs": [
    {
     "name": "stdout",
     "output_type": "stream",
     "text": [
      "1\n",
      "6\n",
      "8 4 3 2 1 3 4 8\n",
      "Yes\n"
     ]
    }
   ],
   "source": [
    "from collections import deque\n",
    "\n",
    "def check(d):\n",
    "    while d:\n",
    "        big = d.popleft() if d[0]>d[-1] else d.pop()\n",
    "        if not d:\n",
    "            return \"Yes\"\n",
    "        if d[-1]>big or d[0]>big:\n",
    "            return \"No\"\n",
    "    \n",
    "for i in range(int(input())):\n",
    "    int(input())\n",
    "    d = deque(map(int,input().split()))\n",
    "    print(check(d))"
   ]
  },
  {
   "cell_type": "code",
   "execution_count": null,
   "id": "71a73ad1",
   "metadata": {},
   "outputs": [],
   "source": []
  },
  {
   "cell_type": "markdown",
   "id": "536c41a6",
   "metadata": {},
   "source": [
    "Sample Input 0\n",
    "------------------\n",
    "aabbbccde\n",
    "\n",
    "Sample Output 0\n",
    "--------------\n",
    "b 3\n",
    "\n",
    "a 2\n",
    "\n",
    "c 2\n",
    "\n",
    "Explanation 0\n",
    "------------\n",
    "\n",
    "Here, b occurs 3 times. It is printed first.\n",
    "Both a and c occur 2 times. So, a is printed in the second line and c in the third line because a comes before c in the alphabet.\n",
    "\n",
    "Note: The string S has at least 3 distinct characters."
   ]
  },
  {
   "cell_type": "code",
   "execution_count": 43,
   "id": "76a7912f",
   "metadata": {},
   "outputs": [
    {
     "name": "stdout",
     "output_type": "stream",
     "text": [
      "aabbbcccde\n",
      "a 2\n",
      "b 3\n",
      "c 3\n"
     ]
    }
   ],
   "source": [
    "if __name__ == '__main__':\n",
    "    s = list(input())\n",
    "    d = {}\n",
    "    \n",
    "    for i in s:\n",
    "        if i in d:\n",
    "            d[i] += 1\n",
    "        else:\n",
    "            d[i] = 1\n",
    "            \n",
    "    \n",
    "    for k, v in d.items():\n",
    "        if v!=1:\n",
    "            print(k, v)"
   ]
  },
  {
   "cell_type": "code",
   "execution_count": 44,
   "id": "a5780477",
   "metadata": {},
   "outputs": [
    {
     "name": "stdout",
     "output_type": "stream",
     "text": [
      "aabbbcccde\n",
      "b 3\n",
      "c 3\n",
      "a 2\n"
     ]
    }
   ],
   "source": [
    "from collections import Counter\n",
    "\n",
    "if __name__ == '__main__':\n",
    "    s = Counter(input())\n",
    "    \n",
    "    for k, v in s.most_common():\n",
    "        if v != 1:\n",
    "            print(k, v)"
   ]
  },
  {
   "cell_type": "code",
   "execution_count": 51,
   "id": "2c59e3cf",
   "metadata": {},
   "outputs": [
    {
     "name": "stdout",
     "output_type": "stream",
     "text": [
      "aabbbcccde\n",
      "b 3\n",
      "c 3\n",
      "a 2\n"
     ]
    }
   ],
   "source": [
    "from collections import Counter\n",
    "\n",
    "for c in Counter(sorted(input())).most_common(3):\n",
    "    print(*c)"
   ]
  },
  {
   "cell_type": "code",
   "execution_count": 52,
   "id": "9f1115f0",
   "metadata": {},
   "outputs": [
    {
     "name": "stdout",
     "output_type": "stream",
     "text": [
      "aabbbcccde\n",
      "b 3\n",
      "c 3\n",
      "a 2\n"
     ]
    }
   ],
   "source": [
    "if __name__ == '__main__':\n",
    "    s = Counter(input())\n",
    "    \n",
    "    i = 0\n",
    "    \n",
    "    for k, v in s.most_common():\n",
    "        if (v != 1) and (i < 3):\n",
    "            print(k, v)\n",
    "            i += 1"
   ]
  },
  {
   "cell_type": "code",
   "execution_count": 53,
   "id": "fdd0ef1c",
   "metadata": {},
   "outputs": [
    {
     "name": "stdout",
     "output_type": "stream",
     "text": [
      "print(3+2)\n",
      "5\n"
     ]
    }
   ],
   "source": [
    "eval(input())"
   ]
  },
  {
   "cell_type": "markdown",
   "id": "b898a82d",
   "metadata": {},
   "source": [
    "## imp\n",
    "\n",
    "https://s3.amazonaws.com/hr-assets/0/1514874268-6fabad07aa-AthleteSort2.png\n",
    "\n",
    "Sample Input 0\n",
    "--------------\n",
    "5 3\n",
    "\n",
    "10 2 5\n",
    "\n",
    "7 1 0\n",
    "\n",
    "9 9 9\n",
    "\n",
    "1 23 12\n",
    "\n",
    "6 5 9\n",
    "\n",
    "1\n",
    "\n",
    "Sample Output 0\n",
    "------------\n",
    "7 1 0\n",
    "\n",
    "10 2 5\n",
    "\n",
    "6 5 9\n",
    "\n",
    "9 9 9\n",
    "\n",
    "1 23 12\n",
    "\n",
    "Explanation 0\n",
    "----------------\n",
    "The details are sorted based on the second attribute, since K is zero-indexed."
   ]
  },
  {
   "cell_type": "code",
   "execution_count": null,
   "id": "db504572",
   "metadata": {},
   "outputs": [],
   "source": [
    "if __name__ == '__main__':\n",
    "    n, m = map(int, input().split())\n",
    "\n",
    "    arr = [input() for _ in range(n)]\n",
    "\n",
    "    k = int(input())\n",
    "    \n",
    "    for a in sorted(arr, key=lambda a: int(a.split()[k])):\n",
    "        print(a)"
   ]
  },
  {
   "cell_type": "code",
   "execution_count": 57,
   "id": "7d343be5",
   "metadata": {},
   "outputs": [
    {
     "name": "stdout",
     "output_type": "stream",
     "text": [
      "100,000,00.000\n",
      "100\n",
      "000\n",
      "00\n",
      "000\n"
     ]
    }
   ],
   "source": [
    "regex_pattern = r\"[,.]+\"\t# Do not delete 'r'.\n",
    "\n",
    "import re\n",
    "print(\"\\n\".join(re.split(regex_pattern, input())))"
   ]
  },
  {
   "cell_type": "code",
   "execution_count": null,
   "id": "9536e2bf",
   "metadata": {},
   "outputs": [],
   "source": []
  }
 ],
 "metadata": {
  "kernelspec": {
   "display_name": "Python 3",
   "language": "python",
   "name": "python3"
  },
  "language_info": {
   "codemirror_mode": {
    "name": "ipython",
    "version": 3
   },
   "file_extension": ".py",
   "mimetype": "text/x-python",
   "name": "python",
   "nbconvert_exporter": "python",
   "pygments_lexer": "ipython3",
   "version": "3.8.5"
  }
 },
 "nbformat": 4,
 "nbformat_minor": 5
}
