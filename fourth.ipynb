{
 "cells": [
  {
   "cell_type": "markdown",
   "id": "fcc67819",
   "metadata": {},
   "source": [
    "Sample Input\n",
    "------------\n",
    " 1\n",
    " \n",
    " 3 3 4\n",
    " \n",
    "Sample Output\n",
    "-------------\n",
    " 0 1 2"
   ]
  },
  {
   "cell_type": "code",
   "execution_count": 1,
   "id": "3d3e751e",
   "metadata": {},
   "outputs": [
    {
     "name": "stdout",
     "output_type": "stream",
     "text": [
      "1\n",
      "10 70 50\n",
      "5 6 7 7 7 7 7 7 8 9 \n"
     ]
    }
   ],
   "source": [
    "def Solve(n, s, k, l = 0):\n",
    "    m = s % n\n",
    "    if k < (m * (n - m)):\n",
    "        return False\n",
    "    if (n - 1) * s < k:\n",
    "        return False\n",
    "    h = n + (s << 6) + (k << 14) + (l << 25)\n",
    "    if n == 1:\n",
    "        if k:\n",
    "            return False\n",
    "        dp[h] = s\n",
    "    if h in dp:\n",
    "        if dp[h] == -1:\n",
    "            return False\n",
    "        return True\n",
    "    for i in range(l, s // n + 1):\n",
    "        p = k - ((s - i) - i * (n - 1))\n",
    "        if p < 0:\n",
    "            continue\n",
    "        if Solve(n - 1, s - i, p, i):\n",
    "            dp[h] = i\n",
    "            return True\n",
    "    dp[h] = -1\n",
    "    return False\n",
    "\n",
    "dp = {}\n",
    "for i in range(int(input())):\n",
    "    n, s, k = map(int, input().split())\n",
    "    if Solve(n, s, k):\n",
    "        i = 0\n",
    "        h = n + (s << 6) + (k << 14) + (i << 25)\n",
    "        while h in dp:\n",
    "            i = dp[h]\n",
    "            k -= ((s - i) - i * (n - 1))\n",
    "            n -= 1\n",
    "            s -= i\n",
    "            h = n + (s << 6) + (k << 14) + (i << 25)\n",
    "            print(i, end = \" \")\n",
    "        print(\"\")\n",
    "    else:\n",
    "        print(-1)"
   ]
  },
  {
   "cell_type": "code",
   "execution_count": null,
   "id": "8f101097",
   "metadata": {},
   "outputs": [],
   "source": []
  }
 ],
 "metadata": {
  "kernelspec": {
   "display_name": "Python 3",
   "language": "python",
   "name": "python3"
  },
  "language_info": {
   "codemirror_mode": {
    "name": "ipython",
    "version": 3
   },
   "file_extension": ".py",
   "mimetype": "text/x-python",
   "name": "python",
   "nbconvert_exporter": "python",
   "pygments_lexer": "ipython3",
   "version": "3.8.5"
  }
 },
 "nbformat": 4,
 "nbformat_minor": 5
}
