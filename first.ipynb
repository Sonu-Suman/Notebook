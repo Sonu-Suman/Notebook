{
 "cells": [
  {
   "cell_type": "markdown",
   "id": "151ac2f2",
   "metadata": {},
   "source": [
    "Sample Designs\n",
    "\n",
    "    Size: 7 x 21 \n",
    "    \n",
    "    ---------.|.---------\n",
    "    ------.|..|..|.------\n",
    "    ---.|..|..|..|..|.---\n",
    "    -------WELCOME-------\n",
    "    ---.|..|..|..|..|.---\n",
    "    ------.|..|..|.------\n",
    "    ---------.|.---------\n",
    "    \n",
    "    Size: 11 x 33\n",
    "    \n",
    "    ---------------.|.---------------\n",
    "    ------------.|..|..|.------------\n",
    "    ---------.|..|..|..|..|.---------\n",
    "    ------.|..|..|..|..|..|..|.------\n",
    "    ---.|..|..|..|..|..|..|..|..|.---\n",
    "    -------------WELCOME-------------\n",
    "    ---.|..|..|..|..|..|..|..|..|.---\n",
    "    ------.|..|..|..|..|..|..|.------\n",
    "    ---------.|..|..|..|..|.---------\n",
    "    ------------.|..|..|.------------\n",
    "    ---------------.|.---------------"
   ]
  },
  {
   "cell_type": "code",
   "execution_count": 1,
   "id": "3736b319",
   "metadata": {},
   "outputs": [
    {
     "name": "stdout",
     "output_type": "stream",
     "text": [
      "7 21\n",
      "---------.|.---------\n",
      "------.|..|..|.------\n",
      "---.|..|..|..|..|.---\n",
      "-------WELCOME-------\n",
      "---.|..|..|..|..|.---\n",
      "------.|..|..|.------\n",
      "---------.|.---------\n"
     ]
    }
   ],
   "source": [
    "n, m = map(int,input().split())\n",
    "pattern = [('.|.'*(2*i + 1)).center(m, '-') for i in range(n//2)]\n",
    "print('\\n'.join(pattern + ['WELCOME'.center(m, '-')] + pattern[::-1]))"
   ]
  },
  {
   "cell_type": "markdown",
   "id": "503cf965",
   "metadata": {},
   "source": [
    "## 2\n",
    "Given an integer, , print the following values for each integer  from  to :\n",
    "\n",
    "Decimal\n",
    "\n",
    "Octal\n",
    "\n",
    "Hexadecimal (capitalized)\n",
    "\n",
    "Binary"
   ]
  },
  {
   "cell_type": "code",
   "execution_count": 4,
   "id": "e5e1e842",
   "metadata": {},
   "outputs": [
    {
     "name": "stdout",
     "output_type": "stream",
     "text": [
      "17\n",
      "    1     1     1     1\n",
      "    2     2     2    10\n",
      "    3     3     3    11\n",
      "    4     4     4   100\n",
      "    5     5     5   101\n",
      "    6     6     6   110\n",
      "    7     7     7   111\n",
      "    8    10     8  1000\n",
      "    9    11     9  1001\n",
      "   10    12     A  1010\n",
      "   11    13     B  1011\n",
      "   12    14     C  1100\n",
      "   13    15     D  1101\n",
      "   14    16     E  1110\n",
      "   15    17     F  1111\n",
      "   16    20    10 10000\n",
      "   17    21    11 10001\n"
     ]
    }
   ],
   "source": [
    "n = int(input())\n",
    "width = len(\"{0:b}\".format(n))\n",
    "for i in range(1,n+1):\n",
    "  print(\"{0:{width}d} {0:{width}o} {0:{width}X} {0:{width}b}\".format(i, width=width))"
   ]
  },
  {
   "cell_type": "markdown",
   "id": "42c94ade",
   "metadata": {},
   "source": [
    "#size 3\n",
    "\n",
    "\n",
    "----c----\n",
    "\n",
    "--c-b-c--\n",
    "\n",
    "c-b-a-b-c\n",
    "\n",
    "--c-b-c--\n",
    "\n",
    "----c----\n",
    "\n",
    "\n",
    "\n",
    "#size 5\n",
    "\n",
    "\n",
    "--------e--------\n",
    "\n",
    "------e-d-e------\n",
    "\n",
    "----e-d-c-d-e----\n",
    "\n",
    "--e-d-c-b-c-d-e--\n",
    "\n",
    "e-d-c-b-a-b-c-d-e\n",
    "\n",
    "--e-d-c-b-c-d-e--\n",
    "\n",
    "----e-d-c-d-e----\n",
    "\n",
    "------e-d-e------\n",
    "\n",
    "--------e--------\n",
    "\n",
    "\n",
    "\n",
    "#size 10\n",
    "\n",
    "\n",
    "------------------j------------------\n",
    "\n",
    "----------------j-i-j----------------\n",
    "\n",
    "--------------j-i-h-i-j--------------\n",
    "\n",
    "------------j-i-h-g-h-i-j------------\n",
    "\n",
    "----------j-i-h-g-f-g-h-i-j----------\n",
    "\n",
    "--------j-i-h-g-f-e-f-g-h-i-j--------\n",
    "\n",
    "------j-i-h-g-f-e-d-e-f-g-h-i-j------\n",
    "\n",
    "----j-i-h-g-f-e-d-c-d-e-f-g-h-i-j----\n",
    "\n",
    "--j-i-h-g-f-e-d-c-b-c-d-e-f-g-h-i-j--\n",
    "\n",
    "j-i-h-g-f-e-d-c-b-a-b-c-d-e-f-g-h-i-j\n",
    "\n",
    "--j-i-h-g-f-e-d-c-b-c-d-e-f-g-h-i-j--\n",
    "\n",
    "----j-i-h-g-f-e-d-c-d-e-f-g-h-i-j----\n",
    "\n",
    "------j-i-h-g-f-e-d-e-f-g-h-i-j------\n",
    "\n",
    "--------j-i-h-g-f-e-f-g-h-i-j--------\n",
    "\n",
    "----------j-i-h-g-f-g-h-i-j----------\n",
    "\n",
    "------------j-i-h-g-h-i-j------------\n",
    "\n",
    "--------------j-i-h-i-j--------------\n",
    "\n",
    "----------------j-i-j----------------\n",
    "\n",
    "------------------j------------------"
   ]
  },
  {
   "cell_type": "code",
   "execution_count": 7,
   "id": "6df0b024",
   "metadata": {},
   "outputs": [
    {
     "name": "stdout",
     "output_type": "stream",
     "text": [
      "5\n",
      "--------e--------\n",
      "------e-d-e------\n",
      "----e-d-c-d-e----\n",
      "--e-d-c-b-c-d-e--\n",
      "e-d-c-b-a-b-c-d-e\n",
      "--e-d-c-b-c-d-e--\n",
      "----e-d-c-d-e----\n",
      "------e-d-e------\n",
      "--------e--------\n"
     ]
    }
   ],
   "source": [
    "import string\n",
    "alpha = string.ascii_lowercase\n",
    "\n",
    "n = int(input())\n",
    "L = []\n",
    "for i in range(n):\n",
    "    s = \"-\".join(alpha[i:n])\n",
    "    L.append((s[::-1]+s[1:]).center(4*n-3, \"-\"))\n",
    "    \n",
    "print('\\n'.join(L[:0:-1]+L))"
   ]
  },
  {
   "cell_type": "markdown",
   "id": "699dccac",
   "metadata": {},
   "source": [
    "## 3\n",
    "Sample Input\n",
    "\n",
    "chris alan\n",
    "\n",
    "Sample Output\n",
    "\n",
    "Chris Alan"
   ]
  },
  {
   "cell_type": "code",
   "execution_count": null,
   "id": "39cdbadf",
   "metadata": {},
   "outputs": [],
   "source": [
    "import math\n",
    "import os\n",
    "import random\n",
    "import re\n",
    "import sys\n",
    "\n",
    "# Complete the solve function below.\n",
    "def solve(s):\n",
    "    s = (s.split(\" \"))\n",
    "    f = []\n",
    "    for i in s:\n",
    "        l = list(i)\n",
    "        k = l[0].upper()\n",
    "        l[0] = k\n",
    "        f.append(''.join(l))\n",
    "        \n",
    "    return ' '.join(f)\n",
    "\n",
    "\"\"\"\n",
    "s = input()\n",
    "for x in s[:].split():\n",
    "    s = s.replace(x, x.capitalize())\n",
    "print(s)\n",
    "\"\"\"\n",
    "    \n",
    "    \n",
    "        \n",
    "if __name__ == '__main__':\n",
    "    fptr = open(os.environ['OUTPUT_PATH'], 'w')\n",
    "\n",
    "    s = input()\n",
    "\n",
    "    result = solve(s)\n",
    "\n",
    "    fptr.write(result + '\\n')\n",
    "\n",
    "    fptr.close()"
   ]
  },
  {
   "cell_type": "markdown",
   "id": "2dd9fd2f",
   "metadata": {},
   "source": [
    "## 4\n",
    "Sample Input\n",
    "----------------\n",
    "3 1000\n",
    "\n",
    "2 5 4\n",
    "\n",
    "3 7 8 9 \n",
    "\n",
    "5 5 7 8 9 10 \n",
    "\n",
    "Sample Output\n",
    "-----------------\n",
    "206\n",
    "\n",
    "Explanation\n",
    "-----------------\n",
    "Picking 5 from the 1st list, 9 from the 2nd list and 10 from the 3rd list gives the maximum S value equal to (5^2 + 9^2 + 10^2)%1000 = 206."
   ]
  },
  {
   "cell_type": "code",
   "execution_count": null,
   "id": "9b1d5de0",
   "metadata": {},
   "outputs": [],
   "source": [
    "from itertools import product\n",
    "\n",
    "K,M = map(int,input().split())\n",
    "N = (list(map(int, input().split()))[1:] for _ in range(K))\n",
    "results = map(lambda x: sum(i**2 for i in x)%M, product(*N))\n",
    "print(max(results))"
   ]
  },
  {
   "cell_type": "code",
   "execution_count": null,
   "id": "f12a66f0",
   "metadata": {},
   "outputs": [],
   "source": [
    "n, m = map(int, input().split())\n",
    "\n",
    "su = 0\n",
    "\n",
    "for _ in range(n):\n",
    "    s = list(input().split())\n",
    "    l = []\n",
    "    for i in s:\n",
    "        l.append(int(i))\n",
    "    k = max(l)\n",
    "    \n",
    "    su += k**2\n",
    "    \n",
    "print(su%m)"
   ]
  },
  {
   "cell_type": "markdown",
   "id": "6c2d9dea",
   "metadata": {},
   "source": [
    "Sample Input\n",
    "---------------\n",
    "5\n",
    "\n",
    "12 9 61 5 14 \n",
    "\n",
    "Sample Output\n",
    "---------------\n",
    "True\n",
    "\n",
    "Explanation\n",
    "----------------\n",
    "Condition 1: All the integers in the list are positive.\n",
    "Condition 2: 5 is a palindromic integer.\n",
    "\n",
    "Hence, the output is True.\n",
    "\n",
    "Can you solve this challenge in 3 lines of code or less?"
   ]
  },
  {
   "cell_type": "code",
   "execution_count": 10,
   "id": "b1850290",
   "metadata": {},
   "outputs": [
    {
     "name": "stdout",
     "output_type": "stream",
     "text": [
      "5\n",
      "12 17 5 9 16\n",
      "True\n"
     ]
    }
   ],
   "source": [
    "N,n = int(input()), input().split()\n",
    "print(all([int(i)>0 for i in n]) and any([j == j[::-1] for j in n]))"
   ]
  },
  {
   "cell_type": "markdown",
   "id": "68178100",
   "metadata": {},
   "source": [
    "## 5\n",
    "Your task is to sort the string S in the following manner:\n",
    "\n",
    "1). All sorted lowercase letters are ahead of uppercase letters.\n",
    "\n",
    "2). All sorted uppercase letters are ahead of digits.\n",
    "\n",
    "3). All sorted odd digits are ahead of sorted even digits."
   ]
  },
  {
   "cell_type": "code",
   "execution_count": 15,
   "id": "21b40eb5",
   "metadata": {},
   "outputs": [
    {
     "name": "stdout",
     "output_type": "stream",
     "text": [
      "Sorting1234\n",
      "ginortS1324\n"
     ]
    }
   ],
   "source": [
    "import string\n",
    "print(*sorted(input(), key=(string.ascii_letters + '1357902468').index), sep='')"
   ]
  },
  {
   "cell_type": "code",
   "execution_count": 12,
   "id": "c0beb4ec",
   "metadata": {},
   "outputs": [
    {
     "name": "stdout",
     "output_type": "stream",
     "text": [
      "Sorting1234\n",
      "ginortS1324\n"
     ]
    }
   ],
   "source": [
    "print(*sorted(input(), key=lambda c: (-ord(c) >> 5, c in '02468', c)), sep='')"
   ]
  },
  {
   "cell_type": "code",
   "execution_count": 13,
   "id": "171fda2f",
   "metadata": {},
   "outputs": [
    {
     "name": "stdout",
     "output_type": "stream",
     "text": [
      "Sorting1234\n",
      "ginortS1324\n"
     ]
    }
   ],
   "source": [
    "print(*sorted(input(), key=lambda c: (c.isdigit() - c.islower(), c in '02468', c)), sep='')"
   ]
  },
  {
   "cell_type": "code",
   "execution_count": 1,
   "id": "cdcf5c34",
   "metadata": {},
   "outputs": [
    {
     "name": "stdout",
     "output_type": "stream",
     "text": [
      "Sorting1234\n",
      "ginortS1324\n"
     ]
    }
   ],
   "source": [
    "order = 'abcdefghijklmnopqrstuvwxyzABCDEFGHIJKLMNOPQRSTUVWXYZ1357902468'\n",
    "print(*sorted(input(), key=order.index), sep='')"
   ]
  },
  {
   "cell_type": "markdown",
   "id": "619f2a52",
   "metadata": {},
   "source": [
    "## 6\n",
    "Task\n",
    "------\n",
    "You are given a string S. It consists of alphanumeric characters, spaces and symbols(+,-).\n",
    "\n",
    "Your task is to find all the substrings of S that contains 2 or more vowels.\n",
    "\n",
    "Also, these substrings must lie in between 2 consonants and should contain vowels only.\n",
    "\n",
    "Note :\n",
    "---------\n",
    "Vowels are defined as: AEIOU and aeiou.\n",
    "\n",
    "Consonants are defined as: QWRTYPSDFGHJKLZXCVBNM and qwrtypsdfghjklzxcvbnm."
   ]
  },
  {
   "cell_type": "code",
   "execution_count": null,
   "id": "399e86dd",
   "metadata": {},
   "outputs": [],
   "source": [
    "import re\n",
    "s = '[qwrtypsdfghjklzxcvbnm]'\n",
    "a = re.findall('(?<=' + s +')([aeiou]{2,})' + s, input(), re.I)\n",
    "print('\\n'.join(a or ['-1']))"
   ]
  },
  {
   "cell_type": "markdown",
   "id": "48458877",
   "metadata": {},
   "source": [
    "## 6\n",
    "Sample Input\n",
    "------------\n",
    "aaadaa\n",
    "aa\n",
    "\n",
    "Sample Output\n",
    "------------\n",
    "(0, 1)  \n",
    "(1, 2)\n",
    "(4, 5)"
   ]
  },
  {
   "cell_type": "code",
   "execution_count": 16,
   "id": "b749b328",
   "metadata": {},
   "outputs": [
    {
     "name": "stdout",
     "output_type": "stream",
     "text": [
      "aaadaa\n",
      "aa\n",
      "(0, 1)\n",
      "(1, 2)\n",
      "(4, 5)\n"
     ]
    }
   ],
   "source": [
    "import re\n",
    "s, k = input(), input()\n",
    "matches = list(re.finditer(r'(?={})'.format(k), s))\n",
    "if matches:\n",
    "    print('\\n'.join(str((match.start(),\n",
    "          match.start() + len(k) - 1)) for match in matches))\n",
    "else:\n",
    "    print('(-1, -1)')"
   ]
  },
  {
   "cell_type": "markdown",
   "id": "e899e7b4",
   "metadata": {},
   "source": [
    "## 7\n",
    "Sample Input\n",
    "----------\n",
    "11\n",
    "\n",
    "a = 1;\n",
    "\n",
    "b = input();\n",
    "\n",
    "\n",
    "if a + b > 0 && a - b < 0:\n",
    "\n",
    "    start()\n",
    "    \n",
    "elif a*b > 10 || a/b < 1:\n",
    "\n",
    "    stop()\n",
    "    \n",
    "print set(list(a)) | set(list(b))\n",
    "\n",
    "#Note do not change &&& or ||| or & or |\n",
    "\n",
    "#Only change those '&&' which have space on both sides.\n",
    "\n",
    "#Only change those '|| which have space on both sides.\n",
    "\n",
    "\n",
    "Sample Output\n",
    "---------------\n",
    "a = 1;\n",
    "\n",
    "b = input();\n",
    "\n",
    "\n",
    "if a + b > 0 and a - b < 0:\n",
    "\n",
    "    start()\n",
    "    \n",
    "elif a*b > 10 or a/b < 1:\n",
    "\n",
    "    stop()\n",
    "    \n",
    "print set(list(a)) | set(list(b)) \n",
    "\n",
    "#Note do not change &&& or ||| or & or |\n",
    "\n",
    "#Only change those '&&' which have space on both sides.\n",
    "\n",
    "#Only change those '|| which have space on both sides."
   ]
  },
  {
   "cell_type": "code",
   "execution_count": null,
   "id": "80299cec",
   "metadata": {},
   "outputs": [],
   "source": [
    "import re\n",
    "N = int(input())\n",
    "\n",
    "for i in range(N):\n",
    "    print(re.sub(r'(?<= )(&&|\\|\\|)(?= )', lambda x: 'and' if x.group() == '&&' else 'or', input()))"
   ]
  },
  {
   "cell_type": "code",
   "execution_count": null,
   "id": "047b7f20",
   "metadata": {},
   "outputs": [],
   "source": [
    "converter = {\n",
    "    '&&': 'and',\n",
    "    '||': 'or'\n",
    "}\n",
    "\n",
    "\n",
    "for _ in range(int(input())):\n",
    "    output = ''\n",
    "    msg = input()\n",
    "    words = msg.split(' ')\n",
    "    for word in words:\n",
    "        output += converter.get(word, word) + ' '\n",
    "    print(output)"
   ]
  },
  {
   "cell_type": "markdown",
   "id": "27abb80d",
   "metadata": {},
   "source": [
    "Sample Input\n",
    "--------------\n",
    "CDXXI\n",
    "\n",
    "Sample Output\n",
    "---------------\n",
    "True"
   ]
  },
  {
   "cell_type": "code",
   "execution_count": 2,
   "id": "16458965",
   "metadata": {},
   "outputs": [
    {
     "name": "stdout",
     "output_type": "stream",
     "text": [
      "XXVII\n",
      "True\n"
     ]
    }
   ],
   "source": [
    "thousand = '(?:(M){0,3})?'\n",
    "hundred = '(?:(D?(C){0,3})|(CM)|(CD))?'\n",
    "ten = '(?:(L?(X){0,3})|(XC)|(XL))?'\n",
    "digit = '(?:(V?(I){0,3})|(IX)|(IV))'\n",
    "regex_pattern = r\"^\" + thousand\t+hundred + ten + digit + \"$\" # Do not delete 'r'.\n",
    "\n",
    "import re\n",
    "print(str(bool(re.match(regex_pattern, input()))))"
   ]
  },
  {
   "cell_type": "code",
   "execution_count": 1,
   "id": "a7ba78d9",
   "metadata": {},
   "outputs": [
    {
     "name": "stdout",
     "output_type": "stream",
     "text": [
      "1 2 3 4 5 6\n"
     ]
    }
   ],
   "source": [
    "a = [1, 2, 3, 4, 5, 6]\n",
    "print(*a)"
   ]
  },
  {
   "cell_type": "markdown",
   "id": "dd3b981d",
   "metadata": {},
   "source": [
    "## 8\n",
    "\n",
    "Sample Input\n",
    "------------\n",
    "1222311\n",
    "\n",
    "Sample Output\n",
    "-------------\n",
    "(1, 1) (3, 2) (1, 3) (2, 1)"
   ]
  },
  {
   "cell_type": "code",
   "execution_count": 2,
   "id": "7b491fca",
   "metadata": {},
   "outputs": [
    {
     "name": "stdout",
     "output_type": "stream",
     "text": [
      "122223334445511\n",
      "(1, 1) (4, 2) (3, 3) (3, 4) (2, 5) (2, 1)\n"
     ]
    }
   ],
   "source": [
    "from itertools import groupby\n",
    "\n",
    "print(*[(len(list(g)), int(k)) for k, g in groupby(input())])"
   ]
  },
  {
   "cell_type": "markdown",
   "id": "d5318883",
   "metadata": {},
   "source": [
    "## 9\n",
    "\n",
    "Sample Input\n",
    "-------------\n",
    "4 \n",
    "\n",
    "a a c d\n",
    "\n",
    "2\n",
    "\n",
    "Sample Output\n",
    "------------\n",
    "0.8333\n",
    "\n",
    "Explanation\n",
    "--------------\n",
    "All possible unordered tuples of length 2 comprising of indices from 1 to 4 are:\n",
    "\n",
    "(1, 2), (1, 3), (1, 4), (2, 3), (2, 4), (3, 4)\n",
    "\n",
    "Out of these 6 combinations, 5 of them contain either index 1 or index 2 which are the indices that contain the letter 'a\n",
    "\n",
    "so.... 5/6 = 0.83333"
   ]
  },
  {
   "cell_type": "code",
   "execution_count": 3,
   "id": "9c03e162",
   "metadata": {},
   "outputs": [
    {
     "name": "stdout",
     "output_type": "stream",
     "text": [
      "4\n",
      "a a c d\n",
      "2\n",
      "0.833\n"
     ]
    }
   ],
   "source": [
    "from itertools import combinations, permutations\n",
    "\n",
    "a =int(input())\n",
    "\n",
    "b = list(input().split())\n",
    "\n",
    "n = int(input())\n",
    "\n",
    "c = list(combinations(b, n))\n",
    "\n",
    "f = filter(lambda d: 'a' in d, c)\n",
    "\n",
    "print(\"{0:.3}\".format(len(list(f))/len(c)))"
   ]
  },
  {
   "cell_type": "markdown",
   "id": "67d817ed",
   "metadata": {},
   "source": [
    "## 10\n",
    " \n",
    "If we convert complex number Z to its polar coordinate, we find:\n",
    "\n",
    "r : Distance from Z to origin, i.e., Z = squareroot(x^2 + y^2).\n",
    "\n",
    "phi : Counter clockwise angle measured from the positive x-axis to the line segment that joins Z to the origin.\n",
    "\n",
    "Task\n",
    "------------\n",
    "You are given a complex Z. Your task is to convert it to polar coordinates.\n",
    "\n",
    "Input Format\n",
    "---------------\n",
    "A single line containing the complex number Z. Note: complex() function can be used in python to convert the input as a complex number.\n",
    "\n",
    "Constraints\n",
    "-----------\n",
    "Given number is a valid complex number\n",
    "\n",
    "Output Format\n",
    "--------------\n",
    "Output two lines:\n",
    "\n",
    "The first line should contain the value of r.\n",
    "\n",
    "The second line should contain the value of phi.\n",
    "\n",
    "Sample Input\n",
    "-----------\n",
    "  1+2j\n",
    "  \n",
    "Sample Output\n",
    "--------------\n",
    " 2.23606797749979 \n",
    " \n",
    " 1.1071487177940904\n",
    " \n",
    "Note: The output should be correct up to 3 decimal places."
   ]
  },
  {
   "cell_type": "code",
   "execution_count": 2,
   "id": "01bc3bce",
   "metadata": {},
   "outputs": [
    {
     "name": "stdout",
     "output_type": "stream",
     "text": [
      "-80+20j\n",
      "8.0\n",
      "2.896613990462929\n"
     ]
    }
   ],
   "source": [
    "import math\n",
    "import cmath\n",
    "import re\n",
    "\n",
    "l = []\n",
    "s = input()\n",
    "\n",
    "for i in re.findall(r'\\d\\d?', s):\n",
    "    l.append(int(i))\n",
    "\n",
    "print(math.sqrt(l[0]*l[0] + l[1]*l[1]))\n",
    "\n",
    "print(cmath.phase(complex(s)))"
   ]
  },
  {
   "cell_type": "markdown",
   "id": "50042c02",
   "metadata": {},
   "source": [
    "Input Format\n",
    "-------------\n",
    "The first line contains the length of side AB.\n",
    "\n",
    "The second line contains the length of side BC.\n",
    "\n",
    "Sample Input\n",
    "------------\n",
    "10\n",
    "\n",
    "10\n",
    "\n",
    "Sample Output\n",
    "------------\n",
    "45°"
   ]
  },
  {
   "cell_type": "code",
   "execution_count": 5,
   "id": "55438ad0",
   "metadata": {},
   "outputs": [
    {
     "name": "stdout",
     "output_type": "stream",
     "text": [
      "10\n",
      "10\n",
      "45°\n"
     ]
    }
   ],
   "source": [
    "import math \n",
    "\n",
    "AB = int(input()) \n",
    "BC = int(input())\n",
    "\n",
    "print(str(int(round(math.degrees(math.atan2(AB, BC)))))+'°')"
   ]
  },
  {
   "cell_type": "code",
   "execution_count": 6,
   "id": "63440207",
   "metadata": {},
   "outputs": [
    {
     "name": "stdout",
     "output_type": "stream",
     "text": [
      "45°\n"
     ]
    }
   ],
   "source": [
    "print(\"%d°\" %int(round(math.degrees(math.atan2(10, 10)))))"
   ]
  },
  {
   "cell_type": "code",
   "execution_count": 7,
   "id": "77b9fc54",
   "metadata": {},
   "outputs": [
    {
     "name": "stdout",
     "output_type": "stream",
     "text": [
      "08 05 2015\n",
      "WEDNESDAY\n"
     ]
    }
   ],
   "source": [
    "import calendar\n",
    "\n",
    "M, D, Y = map(int, input().split())\n",
    "\n",
    "print(list(calendar.day_name)[calendar.weekday(Y, M, D)].upper())"
   ]
  },
  {
   "cell_type": "code",
   "execution_count": null,
   "id": "37dde495",
   "metadata": {},
   "outputs": [],
   "source": []
  },
  {
   "cell_type": "code",
   "execution_count": null,
   "id": "39985be7",
   "metadata": {},
   "outputs": [],
   "source": [
    "fmt = '%a %d %b %Y %H:%M:%S %z'\n",
    "for i in range(int(input())):\n",
    "    print(int(abs((dt.strptime(input(), fmt) - \n",
    "                   dt.strptime(input(), fmt)).total_seconds())))"
   ]
  }
 ],
 "metadata": {
  "kernelspec": {
   "display_name": "Python 3",
   "language": "python",
   "name": "python3"
  },
  "language_info": {
   "codemirror_mode": {
    "name": "ipython",
    "version": 3
   },
   "file_extension": ".py",
   "mimetype": "text/x-python",
   "name": "python",
   "nbconvert_exporter": "python",
   "pygments_lexer": "ipython3",
   "version": "3.8.5"
  }
 },
 "nbformat": 4,
 "nbformat_minor": 5
}
